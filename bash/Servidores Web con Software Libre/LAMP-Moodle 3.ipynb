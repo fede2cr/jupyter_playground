{
 "cells": [
  {
   "cell_type": "markdown",
   "metadata": {},
   "source": [
    "# Moodle 3\n",
    "\n",
    "Con esta guía de Jupyter vamos a lograr instalar una versión reciente de Moodle, en un servidor Ubuntu 16.04 recién instalado.\n",
    "\n",
    "Primero debe instalar los componentes del servidor LAMP, inciciando por la instalación de la base de datos. Seguidamente descargamos el código de Moodle.\n",
    "\n",
    "Por último, creamos la base de datos a ser utilizada por Moodle, y luego corremos el instalador Web.\n",
    "\n",
    "\n",
    "### MariaDB\n",
    "MySQL y MariaDB tienen algunas pequeñas diferencias pero para nuestro objetivo son técnicamente equivalente, por lo cual vamos a preferir MariaDB sobre MySQL.\n",
    "\n",
    "A la hora de instalar la base de datos de MariaDB, la herramienta de Apt de Debian va a insistir en solicitarnos una contraseña para el usuario \"root\" de la base de datos, el cual vamos a utilizar para tareas de administración.\n",
    "\n",
    "Para evitar que en esta guía se nos solicite contraseña, vamos a usar el comando ``debconf-set-selections`` para definir la contraseña de antemano.\n",
    "\n",
    "Nota: El usuario \"root\" de MariaDB y el de Linux son completamente aparte."
   ]
  },
  {
   "cell_type": "code",
   "execution_count": null,
   "metadata": {},
   "outputs": [],
   "source": [
    "echo \"mariadb-server mysql-server/root_password password greencore\" | sudo debconf-set-selections\n",
    "echo \"mariadb-server mysql-server/root_password_again password greencore\" | sudo debconf-set-selections\n",
    "sudo apt-get -y install mariadb-server"
   ]
  },
  {
   "cell_type": "markdown",
   "metadata": {},
   "source": [
    "## Configuración de MariaDB\n",
    "\n",
    "Moodle además de tener capacidad para otros motores de bases de datos como PostgreSQL y Oracle, para obtener un mayor desempeño nos solicitan realizar un pequeño cambio en el tipo de tabla a utilizar.\n",
    "\n",
    "Para ello debemos agregar las últimas 3 líneas de este ejemplo a la configuración de MariaDB, dentro de la sección **[mysqld]** dentro del archivo ``/etc/mysql/mariadb.conf.d/50-server.cnf``\n",
    "\n",
    "```\n",
    "[mysqld]\n",
    "\n",
    "#\n",
    "# * Basic Settings\n",
    "#\n",
    "user            = mysql\n",
    "pid-file        = /var/run/mysqld/mysqld.pid\n",
    "socket          = /var/run/mysqld/mysqld.sock\n",
    "port            = 3306\n",
    "basedir         = /usr\n",
    "datadir         = /var/lib/mysql\n",
    "tmpdir          = /tmp\n",
    "lc-messages-dir = /usr/share/mysql\n",
    "skip-external-locking\n",
    "\n",
    "default_storage_engine = innodb\n",
    "innodb_file_per_table = 1\n",
    "innodb_file_format = Barracuda\n",
    "```\n",
    "Seguidamente, reiniciamos el servicio de MariaDB (llamado \"mysql\")"
   ]
  },
  {
   "cell_type": "code",
   "execution_count": null,
   "metadata": {},
   "outputs": [],
   "source": [
    "sudo systemctl restart mysql\n",
    "sudo systemctl status mysql | cat"
   ]
  },
  {
   "cell_type": "markdown",
   "metadata": {},
   "source": [
    "### Apache y Php\n",
    "\n",
    "Procedemos ahora a instalar Apache2, con el componente de Php el cual fuerza el servidor a usar el MPM **prefork**.\n",
    "\n",
    "Así mismo instalamos módulos de Php requeridos por la aplicación Moodle, según la documentación del fabricante.\n",
    "\n",
    "Nota: No vamos a reiniciar el servicio de Apache en este momento, sino hasta luego de editar archivos de configuración."
   ]
  },
  {
   "cell_type": "code",
   "execution_count": null,
   "metadata": {},
   "outputs": [],
   "source": [
    "sudo apt-get -y install php libapache2-mod-php apache2 graphviz aspell php-pspell php-curl php-gd php-intl \\\n",
    " php-mysql php-xml php-xmlrpc php-ldap php-zip php-mbstring php-soap\n",
    "sudo a2enmod rewrite"
   ]
  },
  {
   "cell_type": "markdown",
   "metadata": {},
   "source": [
    "### Cambios menores en Apache\n",
    "\n",
    "**Desde una terminal**, y utilizando su editor preferido, debe cambiar dos archivos de la siguiente forma:\n",
    "\n",
    "**Archivo:** ``/etc/apache2/mods-enabled/dir.conf``\n",
    "\n",
    "**Cambio:** La línea que inicia por DirectoryIndex tiene una lista de las extensiones de archivos de tipo \"Index\". Ya sea cambiando el orden, o eliminando extensiones, debe asegurarse que ``index.php`` esté de primero en la lista.\n",
    "\n",
    "``DirectoryIndex index.php``\n",
    "\n",
    "**Archivo:** ``/etc/apache2/apache2.conf``\n",
    "\n",
    "**Cambio:** En la definición del directorio ``/var/www`` originalmente tiene la instrucción ``AllowOverride None``. Cambie la definición para que diga ``AllowOverride All``\n",
    "\n",
    "``<Directory /var/www/>\n",
    "        Options Indexes FollowSymLinks\n",
    "        AllowOverride All\n",
    "        Require all granted\n",
    "</Directory>``\n",
    "\n",
    "Reiniciamos Apache y mostramos el estado del servicio.\n",
    "\n",
    "## Moodle\n",
    "\n",
    "La última versión y recomendada de Moodle es la 3.3.1. Sin embargo vamos a instalar una versión anterior, para practicar procesos de actualización."
   ]
  },
  {
   "cell_type": "code",
   "execution_count": null,
   "metadata": {},
   "outputs": [],
   "source": [
    "sudo systemctl restart apache2\n",
    "sudo systemctl status apache2 | cat\n",
    "wget -qc https://download.moodle.org/download.php/direct/stable32/moodle-latest-32.tgz\n",
    "ls -lh"
   ]
  },
  {
   "cell_type": "markdown",
   "metadata": {},
   "source": [
    "Descomprimimos el código de Moodle dentro de /var/www/html que es el directorio default de Apache.\n",
    "\n",
    "En un sistema en producción se recomienda crear un directorio para cada virtualhost, o un único virtualhost para Moodle y hacer uso de la función de \"Multi tenant\" para trabajar varios clientes con una sola instancia de la aplicación.\n",
    "\n",
    "Importante que el código queda con derechos de **www-data**, usuario que utiliza Debian para el servicio de web de Apache. Esto porque Moodle debe poder manipular archivos dentro de la carpeta."
   ]
  },
  {
   "cell_type": "code",
   "execution_count": null,
   "metadata": {},
   "outputs": [],
   "source": [
    "sudo tar xzf ~/moodle-latest-32.tgz -C /var/www/\n",
    "sudo rm -r /var/www/html\n",
    "sudo mv /var/www/moodle /var/www/html\n",
    "sudo chown -R www-data:www-data /var/www/html\n",
    "ls /var/www/html"
   ]
  },
  {
   "cell_type": "markdown",
   "metadata": {},
   "source": [
    "### Creación de base de datos\n",
    "\n",
    "Antes de ejecutar el instalador Web de Moodle debemos crear la base de datos y el usuario que usará la aplicación de Moodle.\n",
    "\n",
    "Para ello vamos a utilizar el comando de mysql(1), definiendo la contraseña \"greencore\" en la misma línea de comando."
   ]
  },
  {
   "cell_type": "code",
   "execution_count": null,
   "metadata": {
    "collapsed": true
   },
   "outputs": [],
   "source": [
    "sudo mysql -u root -pgreencore << EOF\n",
    "CREATE DATABASE moodle DEFAULT CHARACTER SET utf8 COLLATE utf8_unicode_ci;\n",
    "CREATE USER 'moodle'@'localhost' IDENTIFIED BY 'greencore';\n",
    "GRANT SELECT,INSERT,UPDATE,DELETE,CREATE,CREATE TEMPORARY TABLES,DROP,INDEX,ALTER ON moodle.* TO 'moodle'@'localhost' IDENTIFIED BY 'greencore';\n",
    "EOF"
   ]
  },
  {
   "cell_type": "markdown",
   "metadata": {},
   "source": [
    "## Configuración de Moodle\n",
    "\n",
    "Para el caso de Moodle, hace falta un directorio adicional llamado ``/var/www/moodledata`` el cual debemos crear y asignar permisos para que Moodle pueda crear contenido en este lugar cuando sea necesario."
   ]
  },
  {
   "cell_type": "code",
   "execution_count": null,
   "metadata": {
    "collapsed": true
   },
   "outputs": [],
   "source": [
    "sudo mkdir /var/www/moodledata\n",
    "sudo chown -R www-data /var/www/moodledata\n",
    "sudo chmod -R 0770 /var/www/moodledata"
   ]
  },
  {
   "cell_type": "markdown",
   "metadata": {},
   "source": [
    "### Instalador web\n",
    "\n",
    "No es necesario manipular ningún archivo Php para definir la configuración de nuestro sitio. Visitamos el sitio web, donde nos recibe el instalador Web de Moodle. Este funciona en estilo \"wizard\" donde simplemente vamos contestando con cuidado las consultas que nos hace.\n",
    "\n",
    "http://10.42.25.6X/\n",
    "\n",
    "**Importante**: Seleccione el \"Database driver\" de **MariaDB** en lugar de Improved Mysql.\n",
    "\n",
    "En el instalador puede usar valores que usaría en un sitio en producción.\n",
    "Recuerde utilizar para este laboratorio el usuario \"admin\", aunque no va a aceptar la contraseña \"greencore\" para facilitar la revisión de errores o dudas. Se recomienda **Gr33nc0r3.** para este laboratorio."
   ]
  }
 ],
 "metadata": {
  "kernelspec": {
   "display_name": "Bash",
   "language": "bash",
   "name": "bash"
  },
  "language_info": {
   "codemirror_mode": "shell",
   "file_extension": ".sh",
   "mimetype": "text/x-sh",
   "name": "bash"
  }
 },
 "nbformat": 4,
 "nbformat_minor": 2
}
