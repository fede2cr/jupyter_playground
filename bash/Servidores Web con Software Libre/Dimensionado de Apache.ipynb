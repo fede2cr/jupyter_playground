{
 "cells": [
  {
   "cell_type": "markdown",
   "metadata": {},
   "source": [
    "# Dimensionado de Apache\n",
    "\n",
    "Un problema común en servidores Web es que un pico de usuarios lleve la carga del servidor a un punto donde se agote la memoria RAM del servidor y se comience a utilizar la memoria de intercambio o *SWAP*.\n",
    "\n",
    "Al el SWAP estar basado en almacenamiento de disco duro, es varias órdenes de magnitud más lento que la memoria RAM por que la velocidad de respuesta de los procesos así como el acceso a dispositivos de almacenamiento bajan considerablemente.\n",
    "\n",
    "Una vez en este estado incluso el conectarnos por SSH al servidor para detener el servicio o realizar reparación de emergencia podría verse seriamente afectado, por lo que la duración de la caída del sitio se maximiza y en ocasiones hay que optar por reiniciar el servidor ya sea físico o virtual.\n",
    "\n",
    "Lo mejor es optimizar los servidores Web para que utilicen únicamente los recursos disponibles en el servidor y en una situación de sobre carga solamente una cantidad mínima de usuarios se verían afectados y nos permite inclusive crecer la granja de servidor en agregando más servidores Web evitando la interrupción a los usuarios.\n",
    "\n",
    "En Apache hacemos uso de la configuración del **Multi Process Module** o **MPM**, siguiendo este proceso:\n",
    "\n",
    "1. Quitamos módulos de Apache innecesarios, módulos de lenguaje dinámico (Php, Python en virtualenv, Npm en NodeJS, etc)\n",
    "\n",
    "2. Medimos el peso (en memoria) del proceso de Apache\n",
    "\n",
    "3. Calculamos cuantos procesos de Apache caben cómodamente en nuestro servidor Web\n",
    "\n",
    "4. Realizamos pruebas de stress sobre el sitio, verificando que nuestros cálculos son correctos\n",
    "\n",
    "## Instalación de Apache - mínimo\n",
    "\n",
    "Vamos a realizar una instalación mínima de Apache, removiendo módulos innecesarios y utilizando el **MPM event**"
   ]
  },
  {
   "cell_type": "code",
   "execution_count": null,
   "metadata": {
    "collapsed": true
   },
   "outputs": [],
   "source": [
    "sudo apt-get -y install apache2"
   ]
  },
  {
   "cell_type": "markdown",
   "metadata": {},
   "source": [
    "Vamos ahora a calcular el peso de el proceso de Apache.\n",
    "\n",
    "**Importante**: Se debe calcular el peso de Apache cuando ha estado sirviendo contenido. El nuestro se encuentra \"virgen\" por lo que los resultados podrían ser menores.\n",
    "\n",
    "Para ello vamos a utilizar la herramienta de ``ps(1)`` la cual lista procesos en sistemas Unix.\n",
    "\n",
    "Para explicar la línea de comando completa, vamos a ir agregando porciones de código al uso básico de la herramienta ``ps(1)``.\n",
    "\n",
    "Ejecute los siguientes comandos de forma individual, entendiendo la diferencia entre las ejecuciones y los cambios en la línea de comando de cada uno."
   ]
  },
  {
   "cell_type": "code",
   "execution_count": null,
   "metadata": {
    "collapsed": true
   },
   "outputs": [],
   "source": [
    "# Forma tradicional de usar ps(1). Útil para listar todos los proceso del equipo en forma de árbol\n",
    "ps faxw | head -20"
   ]
  },
  {
   "cell_type": "code",
   "execution_count": null,
   "metadata": {
    "collapsed": true
   },
   "outputs": [],
   "source": [
    "# ps(1) mostrando solo procesos de Apache\n",
    "ps -C apache2"
   ]
  },
  {
   "cell_type": "code",
   "execution_count": null,
   "metadata": {
    "collapsed": true
   },
   "outputs": [],
   "source": [
    "# Ahora solicitamos mostrar la columna de RSS o Resident Set Size\n",
    "ps -o rss -C apache2\n",
    "\n",
    "# Por comparación, otras métricas disponibles en ps(1). RSS se considera la más precisa para nuestra necesidad.\n",
    "ps -o size -C apache2\n",
    "ps -o vsz -C apache2"
   ]
  },
  {
   "cell_type": "code",
   "execution_count": null,
   "metadata": {
    "collapsed": true
   },
   "outputs": [],
   "source": [
    "# Para manipular el número, queremos eliminar el encabezado de columnas\n",
    "ps -o rss -C apache2 --no-headers"
   ]
  },
  {
   "cell_type": "code",
   "execution_count": null,
   "metadata": {
    "collapsed": true
   },
   "outputs": [],
   "source": [
    "# Como existen varios procesos de Apache, nótese que tienen diferentes tamaños de memoria.\n",
    "# Por esta razón vamos a crear un promedio, aprovechando para traducir el valor a megabytes.\n",
    "ps -o rss -C apache2 --no-headers | awk '{total+=$0} END {print total/NR/1024}'"
   ]
  },
  {
   "cell_type": "code",
   "execution_count": null,
   "metadata": {
    "collapsed": true
   },
   "outputs": [],
   "source": [
    "# Por último, vamos a guardar el valor dentro de una variable, para poder imprimir nuestros cálculos de Workers\n",
    "httpd_mem=$(ps -o rss -C apache2 --no-headers | awk '{total+=$0} END {print total/NR/1024}')\n",
    "\n",
    "echo $httpd_mem"
   ]
  },
  {
   "cell_type": "code",
   "execution_count": null,
   "metadata": {
    "collapsed": true,
    "scrolled": true
   },
   "outputs": [],
   "source": [
    "# Ahora podemos seguir utilizando el valor dentro de esta receta de Jupyter.\n",
    "\n",
    "echo $httpd_mem"
   ]
  },
  {
   "cell_type": "markdown",
   "metadata": {},
   "source": [
    "### Configuración de MPM\n",
    "\n",
    "Dependiendo del tipo de worker que tengamos, podemos crear la configuración usando estas recetas.\n",
    "s\n",
    "Iniciamos por medir le memoria disponible, en megas, y guardando el valor en una variable.\n",
    "\n",
    "**Importante**: En este tutorial vamos a asumir que si existe un componente de base de datos (PostgreSQL, MySQL, MongoDB, etc) se encuentra en un servidor aparte. Si ud corre la base de datos en el servidor, debe definir cuanta memoria va a dedicar a la base de datos, y elminar esta memoria de la memoria total, así como realizar mediciones para verificar que no se sobre pasa de la memoria asignada."
   ]
  },
  {
   "cell_type": "code",
   "execution_count": null,
   "metadata": {
    "collapsed": true
   },
   "outputs": [],
   "source": [
    "mem_total=$(grep MemTotal /proc/meminfo | awk '{print $2/1024}')\n",
    "\n",
    "echo $mem_total"
   ]
  },
  {
   "cell_type": "code",
   "execution_count": null,
   "metadata": {
    "collapsed": true
   },
   "outputs": [],
   "source": [
    "# Archivo /etc/apache2/mods-available/mpm_event.conf\n",
    "\n",
    "# Event MPM\n",
    "# StartServers: Cantidad de servidores que arrancan desde el inicio\n",
    "# MinSpareThreads: Cantidad mímina de hilos a mentener en espera\n",
    "# MaxSpareThreads: Cantidad máxima de hilos a mentener en espera\n",
    "# ThreadsPerChild: Cantidad de hijos constant number of worker threads in each server process\n",
    "# MaxRequestWorkers: Hilos máximos en total\n",
    "# MaxConnectionsPerChild: Solicitudes máximas que puede resolver un proceso\n",
    "echo \"<IfModule mpm_event_module>\n",
    "        StartServers                     2\n",
    "        MinSpareThreads          25\n",
    "        MaxSpareThreads          75\n",
    "        ThreadLimit                      64\n",
    "        ThreadsPerChild          25\n",
    "        MaxRequestWorkers         $( echo $mem_total / $httpd_mem | bc )\n",
    "        MaxConnectionsPerChild   0\n",
    "</IfModule>\"\n"
   ]
  },
  {
   "cell_type": "code",
   "execution_count": null,
   "metadata": {
    "collapsed": true
   },
   "outputs": [],
   "source": [
    "# Archivo /etc/apache2/mods-available/mpm_prefork.conf\n",
    "\n",
    "# Prefork MPM\n",
    "# StartServers: Cantidad de servidores que arrancan desde el inicio\n",
    "# MinSpareThreads: Cantidad mímina de hilos a mentener en espera\n",
    "# MaxSpareThreads: Cantidad máxima de hilos a mentener en espera\n",
    "# ThreadsPerChild: Cantidad de hijos constant number of worker threads in each server process\n",
    "# MaxRequestWorkers: Hilos máximos en total\n",
    "# MaxConnectionsPerChild: Solicitudes máximas que puede resolver un proceso\n",
    "\n",
    "\n",
    "echo \"<IfModule mpm_prefork_module>\n",
    "    StartServers             5\n",
    "    MinSpareServers          5\n",
    "    MaxSpareServers         10\n",
    "    MaxRequestWorkers       $( echo $mem_total / $httpd_mem | bc )\n",
    "    MaxConnectionsPerChild   0\n",
    "</IfModule>\"\n"
   ]
  },
  {
   "cell_type": "markdown",
   "metadata": {
    "collapsed": true
   },
   "source": [
    "Ahora que hizo un estimado de la cantidad de procesos máximos que puede correr con Apache, ahora realice cambios en Apache para medir cuanto sube o baja la memoria.\n",
    "\n",
    "En el momento que cambie la configuración de Apache **reinicie** el servicio y ejecute de nuevo los cálculos de memoria en esta libreta.\n",
    "\n",
    "Algunas sugerencias:\n",
    "\n",
    "- Active Php integrado a Apache. Recuerdo que esto cambia del MPM \"event\" al MPM \"prefork\".\n",
    "- Active Php-fpm o Php HHVM. En este caso, debe restar la memoria utilizar para Php, a la memoria disponible para Apache.\n",
    "- Active y desactive módulos de Apache (autoindex, status, dir, ssl, etc)\n",
    "\n",
    "Se recomienda también revisar la [guía de desempeño de Apache](https://httpd.apache.org/docs/2.4/misc/perf-tuning.html)."
   ]
  }
 ],
 "metadata": {
  "kernelspec": {
   "display_name": "Bash",
   "language": "bash",
   "name": "bash"
  },
  "language_info": {
   "codemirror_mode": "shell",
   "file_extension": ".sh",
   "mimetype": "text/x-sh",
   "name": "bash"
  }
 },
 "nbformat": 4,
 "nbformat_minor": 2
}
