{
 "cells": [
  {
   "cell_type": "markdown",
   "metadata": {
    "collapsed": false
   },
   "source": [
    "# Uso de python y la librería Matplotlib para graficar datos durante fabricación de cerveza artesanal.\n",
    "\n",
    "## Detalle:\n",
    "Durante la fabricación de cerveza artesanal, tipo Ale, se debe mantener el mosto en 66C o lo más cercano posible, para asegurarse una apropiada conversión de almidones en azúcares por medio de activación encimática. Esto debe ejecutarse durante al menos una hora (según verificado con prueba de yodo).\n",
    "\n",
    "En la siguiente gráfica se recolectaron datos de temperatura desde el inicio de la hora, luego a los 22 minutos, 35 minutos, 44 minutos y finalmente a los 55 minutos.\n",
    "\n",
    "Se le da formato a los datos de forma que la primera parte del \"array\" contiene los tiempos de muestra, y en la segunda porción, los datos tomados del termómetro de alta resolución DS18B20."
   ]
  },
  {
   "cell_type": "code",
   "execution_count": null,
   "metadata": {
    "collapsed": true
   },
   "outputs": [],
   "source": [
    "%matplotlib inline\n"
   ]
  },
  {
   "cell_type": "code",
   "execution_count": 7,
   "metadata": {
    "collapsed": false
   },
   "outputs": [
    {
     "data": {
      "text/plain": [
       "[<matplotlib.lines.Line2D at 0xb002a070>]"
      ]
     },
     "execution_count": 7,
     "metadata": {},
     "output_type": "execute_result"
    },
    {
     "data": {
      "image/png": "[encoded data removed]",
      "text/plain": [
       "<matplotlib.figure.Figure at 0xaff0df70>"
      ]
     },
     "metadata": {},
     "output_type": "display_data"
    }
   ],
   "source": [
    "import matplotlib.pyplot as plt\n",
    "plt.plot([0,22,35,44,55],[66.80, 67.31, 66.52, 64.20, 66.22])"
   ]
  },
  {
   "cell_type": "raw",
   "metadata": {
    "collapsed": true
   },
   "source": []
  }
 ],
 "metadata": {
  "kernelspec": {
   "display_name": "Python 3",
   "language": "python",
   "name": "python3"
  },
  "language_info": {
   "codemirror_mode": {
    "name": "ipython",
    "version": 3
   },
   "file_extension": ".py",
   "mimetype": "text/x-python",
   "name": "python",
   "nbconvert_exporter": "python",
   "pygments_lexer": "ipython3",
   "version": "3.4.2"
  }
 },
 "nbformat": 4,
 "nbformat_minor": 0
}
