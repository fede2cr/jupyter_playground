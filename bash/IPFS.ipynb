{
 "cells": [
  {
   "cell_type": "markdown",
   "metadata": {},
   "source": [
    "# IPFS\n",
    "\n",
    "El Inter Planerary File System o IPFS, es una forma interesante para distribuir archivos. Nos evita la necesidad de tener un punto central de distribución de contenido, sino que el archivo se distribuye de forma P2P como sucede en protocolos como Bittorrent.\n",
    "\n",
    "IPFS es un protocolo muy interesante que está tomando auge lentamente en la comunidad técnica, y ya existen gateways por parte de proveedores grandes como Cloudflare y es la base del ION de Microsoft. Se recomienda leer a profundidad, dado que también incluye conceptos de blockchain (el uso de tablas distribuídas para hash)  y es masivamente tolerante a fallos.\n",
    "\n",
    "Hoy nos vamos a enfocar en realizar un mini tutorial, capaz de distribuir archivos entre las Raspberry Pi de nuestra aula virtual, sin necesidad de coordinar con proveedores de servicios para solicitar IPs públicas o publicación de puertos.\n",
    "\n",
    "**Importante:** A diferencia de Tor, IPFS - al igual que Bittorrent - no provee ningún tipo de **privacidad**, dado que cualquier persona sabe perfectamente cuales archivos se están descargando de su IP.\n",
    "\n",
    "## Instalación\n",
    "\n",
    "Para publicar archivos, vamos a instalar primero las [herramientas de IPFS](https://dist.ipfs.io/#go-ipfs)."
   ]
  },
  {
   "cell_type": "code",
   "execution_count": null,
   "metadata": {},
   "outputs": [],
   "source": [
    "wget https://dist.ipfs.io/go-ipfs/v0.5.0/go-ipfs_v0.5.0_linux-arm.tar.gz\n",
    "tar xzvf go-ipfs_v0.5.0_linux-arm.tar.gz\n",
    "cd go-ipfs\n",
    "./install.sh\n",
    "cd"
   ]
  },
  {
   "cell_type": "markdown",
   "metadata": {},
   "source": [
    "Ahora podemos proceder a inicializar la llave criptográfica que identifica nuestro servidor de contenido."
   ]
  },
  {
   "cell_type": "code",
   "execution_count": null,
   "metadata": {},
   "outputs": [],
   "source": [
    "ipfs init --profile server"
   ]
  },
  {
   "cell_type": "markdown",
   "metadata": {},
   "source": [
    "**Importante**: Anote su peer identity, dado que es lo que necesitamos para identificarnos, y poderle enviar el enlace a otra persona para que descargue nuestro contenido.\n",
    "\n",
    "En este caso, así es como se ve para mi Raspberry Pi donde vamos a servir el contenido de la clase.\n",
    "\n",
    "```\n",
    "root@kali:~# ipfs init --profile server\n",
    "initializing IPFS node at /root/.ipfs\n",
    "generating 2048-bit RSA keypair...done\n",
    "peer identity: QmUfitdPdRV53kkicYwx5KbdEGjFVLLpztBZ7iPhkC1sYh\n",
    "to get started, enter:\n",
    "\n",
    "        ipfs cat /ipfs/QmQPeNsJPyVWPFDVHb77w8G42Fvo15z4bG2X8D2GhfbSXc/readme\n",
    "```\n",
    "\n",
    "Realice el comando de ``ipfs cat`` con **su** identificador, para observar un contenido similar a:\n",
    "\n",
    "```\n",
    "Hello and Welcome to IPFS!\n",
    "\n",
    "██╗██████╗ ███████╗███████╗\n",
    "██║██╔══██╗██╔════╝██╔════╝\n",
    "██║██████╔╝█████╗  ███████╗\n",
    "██║██╔═══╝ ██╔══╝  ╚════██║\n",
    "██║██║     ██║     ███████║\n",
    "╚═╝╚═╝     ╚═╝     ╚══════╝\n",
    "\n",
    "If you're seeing this, you have successfully installed\n",
    "IPFS and are now interfacing with the ipfs merkledag!\n",
    "\n",
    " -------------------------------------------------------\n",
    "| Warning:                                              |\n",
    "|   This is alpha software. Use at your own discretion! |\n",
    "|   Much is missing or lacking polish. There are bugs.  |\n",
    "|   Not yet secure. Read the security notes for more.   |\n",
    " -------------------------------------------------------\n",
    "\n",
    "Check out some of the other files in this directory:\n",
    "\n",
    "  ./about\n",
    "  ./help\n",
    "  ./quick-start     <-- usage examples\n",
    "  ./readme          <-- this file\n",
    "  ./security-notes\n",
    "\n",
    "```"
   ]
  },
  {
   "cell_type": "markdown",
   "metadata": {},
   "source": [
    "Ahora, vamos a poner a correr un servidor de IPFS. Esto es solo necesario en el momento que queremos publicar contenido.\n",
    "\n",
    "Esto no se ejecuta desde Jupyter, sino que **debe ser ejecutado en una terminal**:\n",
    "\n",
    "```bash\n",
    "ipfs daemon\n",
    "```\n",
    "\n",
    "Esperamos apenas un par de segundos, y luego revisamos si ya tenemos conexión con la red de IPFS:"
   ]
  },
  {
   "cell_type": "code",
   "execution_count": null,
   "metadata": {},
   "outputs": [],
   "source": [
    "ipfs swarm peers"
   ]
  },
  {
   "cell_type": "markdown",
   "metadata": {},
   "source": [
    "## Subiendo archivos\n",
    "\n",
    "Ahora vamos a tomar un archivo de ejemplo, y lo vamos a subir a la red de IPFS:"
   ]
  },
  {
   "cell_type": "code",
   "execution_count": null,
   "metadata": {},
   "outputs": [],
   "source": [
    "hash=$(echo \"Hola mundo, esto es un nuevo archivo para IPFS\" | ipfs add -q)\n",
    "echo $hash"
   ]
  },
  {
   "cell_type": "markdown",
   "metadata": {},
   "source": [
    "En mi equipo, el hash que recibí es **QmTHF4p7gNUykGeUkiKByv3dfbjWefEofMTNPq3bug1r8x**. Eso quiere decir que ahora puedo recuperar ese archivo desde un gateway, visitando una dirección como:\n",
    "\n",
    "https://ipfs.io/ipfs/QmTHF4p7gNUykGeUkiKByv3dfbjWefEofMTNPq3bug1r8x\n",
    "\n",
    "o\n",
    "\n",
    "https://cloudflare-ipfs.com/ipfs/QmTHF4p7gNUykGeUkiKByv3dfbjWefEofMTNPq3bug1r8x\n",
    "\n",
    "Nota: Los gateways son lentos. Por eso se prefiere el siguiente método.\n",
    "\n",
    "## Descargando de IPFS\n",
    "\n",
    "Para mejor desempeño, se prefiere utilizar las herramientas de IPFS, dado que traen el contenido de forma distribuida desde varios peers, "
   ]
  },
  {
   "cell_type": "code",
   "execution_count": null,
   "metadata": {},
   "outputs": [],
   "source": [
    "ipfs cat /ipfs/QmTHF4p7gNUykGeUkiKByv3dfbjWefEofMTNPq3bug1r8x"
   ]
  },
  {
   "cell_type": "markdown",
   "metadata": {},
   "source": [
    "¡Excelente! Quiere decir que ya pudimos tanto descargar, como publicar archivos en la red de IPFS.\n",
    "\n",
    "Comparta en el chat con otros estudiantes el hash de sus archivos, así como pruebe con imágenes, videos y otros."
   ]
  }
 ],
 "metadata": {
  "kernelspec": {
   "display_name": "Bash",
   "language": "bash",
   "name": "bash"
  },
  "language_info": {
   "codemirror_mode": "shell",
   "file_extension": ".sh",
   "mimetype": "text/x-sh",
   "name": "bash"
  }
 },
 "nbformat": 4,
 "nbformat_minor": 2
}
