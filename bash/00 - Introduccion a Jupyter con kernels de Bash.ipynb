{
 "cells": [
  {
   "cell_type": "markdown",
   "metadata": {},
   "source": [
    "# Uso de Jupyter con kernels de Bash\n",
    "\n",
    "Esto es un bloque de *Mark Down*, lo mismo que se usa para los README.md usado en github.\n",
    "\n",
    "Podemos documentar el propósito del laboratorio, incluir diagramas e imágenes.\n",
    "\n",
    "## Aprendiendo a usar expansión en bash\n",
    "\n",
    "Para no tener que digitar tanto y como ayuda en *one-liners* y scripts, podemos usar la expansión de bash."
   ]
  },
  {
   "cell_type": "code",
   "execution_count": 13,
   "metadata": {},
   "outputs": [
    {
     "name": "stdout",
     "output_type": "stream",
     "text": [
      "1 2 3 4 5 6 7 8\n"
     ]
    }
   ],
   "source": [
    "echo {1..8}"
   ]
  },
  {
   "cell_type": "markdown",
   "metadata": {
    "collapsed": true
   },
   "source": [
    "Nóte como el bloque de bash, incluye la salida del comando. Esto es opcional, y podemos limpiar la salida bloque por bloque o para toda la libreta. Esto permite que los estudiantes verifiquen si el laboratorio les va saliendo como se supone y detectar errores sin acarrearlos.\n",
    "\n",
    "La expansión también funciona para literales, y para texto."
   ]
  },
  {
   "cell_type": "code",
   "execution_count": null,
   "metadata": {},
   "outputs": [],
   "source": [
    "echo {a..h}"
   ]
  },
  {
   "cell_type": "code",
   "execution_count": null,
   "metadata": {},
   "outputs": [],
   "source": [
    "echo {Lunes,Martes,Miércoles}"
   ]
  },
  {
   "cell_type": "markdown",
   "metadata": {},
   "source": [
    "### Con ejecución anidada\n",
    "Un ejemplo útil en el día a día es integrarlo con ejecución anidada"
   ]
  },
  {
   "cell_type": "code",
   "execution_count": null,
   "metadata": {
    "collapsed": true
   },
   "outputs": [],
   "source": [
    "touch virtualhost_access_{1..3}-$(date +%F).log"
   ]
  },
  {
   "cell_type": "markdown",
   "metadata": {},
   "source": [
    "Comprobamos la salida"
   ]
  },
  {
   "cell_type": "code",
   "execution_count": null,
   "metadata": {},
   "outputs": [],
   "source": [
    "ls *log"
   ]
  },
  {
   "cell_type": "markdown",
   "metadata": {},
   "source": [
    "### Con ``for``\n",
    "En ciclos de ``for`` es muy útil la expansión, sobre todo para ejemplificar como las libretas de Jupyter tienen salida interactiva"
   ]
  },
  {
   "cell_type": "code",
   "execution_count": null,
   "metadata": {
    "scrolled": true
   },
   "outputs": [],
   "source": [
    "for i in {1..30}\n",
    "do\n",
    "  date\n",
    "  sleep 1s\n",
    "done"
   ]
  }
 ],
 "metadata": {
  "kernelspec": {
   "display_name": "Bash",
   "language": "bash",
   "name": "bash"
  },
  "language_info": {
   "codemirror_mode": "shell",
   "file_extension": ".sh",
   "mimetype": "text/x-sh",
   "name": "bash"
  }
 },
 "nbformat": 4,
 "nbformat_minor": 1
}
