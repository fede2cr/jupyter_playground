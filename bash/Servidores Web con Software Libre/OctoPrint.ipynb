{
 "cells": [
  {
   "cell_type": "markdown",
   "metadata": {},
   "source": [
    "# Octoprint\n",
    "\n",
    "Vamos a instalar un servidor Web en algo diferente a Apache, Nginx, LightHTTPD u otros.\n",
    "\n",
    "En este caso el servidor empotrado dentro de Python. De forma similar otros lenguajes como NodeJS (Javascript) o plataformas empotradas (microcontroladoras para IoT) cargan su propio servidor de páginas.\n",
    "\n",
    "Es importante considerar el tipo de uso que va a tener el servidor de páginas, dado que podría tener capacidades básicas de escalamiento y tener problemas grandes a la hora de correr aplicaciones en producción, por lo que debería considerar un proxy-caché, WAF entre algunas opciones para proteger el servidor.\n",
    "\n",
    "Iniciamos instalando algunos paquetes básicos como:\n",
    "- Git: Para descargar código fuente\n",
    "- Python-pip: Para descargar módulos de Python\n",
    "- Python-virtualenv: Permite trabajar de forma local, en lugar de forma global\n",
    "- Build-essential: Grupo de paquetes requeridos para compilar software"
   ]
  },
  {
   "cell_type": "code",
   "execution_count": null,
   "metadata": {},
   "outputs": [],
   "source": [
    "sudo apt-get -y install build-essential git python-pip python-virtualenv"
   ]
  },
  {
   "cell_type": "markdown",
   "metadata": {},
   "source": [
    "### Git\n",
    "\n",
    "Utilizamos la herramienta de Git para descargar el código.\n",
    "\n",
    "A futuro, para mantenernos actualizados, podemos, dentro de este directorio ejecutar el comando ``git pull`` para recibir actualizaciones, repositorios alternativos, etc."
   ]
  },
  {
   "cell_type": "code",
   "execution_count": null,
   "metadata": {},
   "outputs": [],
   "source": [
    "git clone https://github.com/foosel/OctoPrint.git"
   ]
  },
  {
   "cell_type": "markdown",
   "metadata": {},
   "source": [
    "### Virtualenv de Python\n",
    "\n",
    "``virtualenv`` es la forma de Python para poder trabajar de forma local, en lugar de forma global. Esto es que no es necesario permisos de administrador para instalar módulos de Python que van a estar disponibles para todos los usuarios, sino se instalan en el directorio local, limitando los módulos de Python a las aplicaciones que lo necesitan."
   ]
  },
  {
   "cell_type": "code",
   "execution_count": null,
   "metadata": {},
   "outputs": [],
   "source": [
    "virtualenv /home/greencore/OctoPrint/venv"
   ]
  },
  {
   "cell_type": "code",
   "execution_count": null,
   "metadata": {},
   "outputs": [],
   "source": [
    "cd /home/greencore/OctoPrint\n",
    "./venv/bin/python setup.py install"
   ]
  },
  {
   "cell_type": "markdown",
   "metadata": {},
   "source": [
    "**Desde una terminal**, ejecute el siguiente comando:\n",
    "\n",
    "```bash\n",
    "cd OctoPrint\n",
    "./venv/bin/octoprint\n",
    "```\n",
    "\n",
    "Ahora puede visitar el sitio web de Octoprint en la dirección: http://10.42.25.XX:5000/\n"
   ]
  }
 ],
 "metadata": {
  "kernelspec": {
   "display_name": "Bash",
   "language": "bash",
   "name": "bash"
  },
  "language_info": {
   "codemirror_mode": "shell",
   "file_extension": ".sh",
   "mimetype": "text/x-sh",
   "name": "bash"
  }
 },
 "nbformat": 4,
 "nbformat_minor": 2
}
