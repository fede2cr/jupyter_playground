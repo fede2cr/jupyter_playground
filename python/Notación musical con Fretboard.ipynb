{
 "cells": [
  {
   "cell_type": "markdown",
   "metadata": {},
   "source": [
    "# Ejemplo con fretboard\n",
    "\n",
    "En este caso, usaremos libretas de Jupyter con el módulo de Python llamado Freatboard, el cual usaremos para documentar acordes y escalas, para ser usado en clases de música y de instrumentos de cuerda.\n",
    "\n",
    "Ejemplo tomado de [este link](https://pypi.org/project/fretboard/) y adaptado para Jupyter notebook.\n",
    "\n",
    "Para instalarlo, debe ejecutar algo similar a:\n",
    "\n",
    "```\n",
    "sudo pip3 install fretboard\n",
    "```"
   ]
  },
  {
   "cell_type": "code",
   "execution_count": null,
   "metadata": {},
   "outputs": [],
   "source": [
    "import fretboard"
   ]
  },
  {
   "cell_type": "code",
   "execution_count": null,
   "metadata": {},
   "outputs": [],
   "source": [
    "chord = fretboard.Chord(positions='xx0232', fingers='---132')\n",
    "chord.save('D.svg')"
   ]
  },
  {
   "cell_type": "markdown",
   "metadata": {},
   "source": [
    "![Acorde Re en Guitarra](D.svg)"
   ]
  },
  {
   "cell_type": "code",
   "execution_count": null,
   "metadata": {},
   "outputs": [],
   "source": [
    "chord = fretboard.BassChord(positions='x221', fingers='-321')\n",
    "chord.save('bass-E.svg')"
   ]
  },
  {
   "cell_type": "markdown",
   "metadata": {},
   "source": [
    "![Acorde Mi en Bajo](D.svg)"
   ]
  },
  {
   "cell_type": "code",
   "execution_count": null,
   "metadata": {},
   "outputs": [],
   "source": [
    "chord = fretboard.UkuleleChord(positions='x232', fingers='-132')\n",
    "chord.save('ukulele-G.svg')"
   ]
  },
  {
   "cell_type": "markdown",
   "metadata": {},
   "source": [
    "![Acorde Sol en ukulele](ukulele-G.svg)"
   ]
  },
  {
   "cell_type": "code",
   "execution_count": null,
   "metadata": {},
   "outputs": [],
   "source": [
    "fb = fretboard.Fretboard(frets=(5, 8), style={'marker': {'color': 'dodgerblue'}})\n",
    "fb.add_marker(string=0, fret=5, label='A', color='chocolate')\n",
    "fb.add_marker(string=1, fret=5, label='D')\n",
    "fb.add_marker(string=2, fret=5, label='G')\n",
    "fb.add_marker(string=3, fret=5, label='C')\n",
    "fb.add_marker(string=4, fret=5, label='E')\n",
    "fb.add_marker(string=5, fret=5, label='A', color='chocolate')\n",
    "\n",
    "fb.add_marker(string=0, fret=8, label='C')\n",
    "fb.add_marker(string=1, fret=7, label='E')\n",
    "fb.add_marker(string=2, fret=7, label='A', color='chocolate')\n",
    "fb.add_marker(string=3, fret=7, label='D')\n",
    "fb.add_marker(string=4, fret=8, label='G')\n",
    "fb.add_marker(string=5, fret=8, label='C')\n",
    "fb.save('pentatonic-shape.svg')"
   ]
  },
  {
   "cell_type": "markdown",
   "metadata": {},
   "source": [
    "![Escala pentatónica en Guitarra](pentatonic-shape.svg)"
   ]
  }
 ],
 "metadata": {
  "kernelspec": {
   "display_name": "Python 3",
   "language": "python",
   "name": "python3"
  },
  "language_info": {
   "codemirror_mode": {
    "name": "ipython",
    "version": 3
   },
   "file_extension": ".py",
   "mimetype": "text/x-python",
   "name": "python",
   "nbconvert_exporter": "python",
   "pygments_lexer": "ipython3",
   "version": "3.6.3"
  }
 },
 "nbformat": 4,
 "nbformat_minor": 2
}
