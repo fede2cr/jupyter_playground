{
 "cells": [
  {
   "cell_type": "markdown",
   "metadata": {},
   "source": [
    "# Sensor de temperatura DHT11 con Python\n",
    "## Usando la librería de Adafruit para Python\n",
    "\n",
    "Conectar sensor a 5V, GND, y el pin de señal hacia el pin 2 en la Raspberry Pi."
   ]
  },
  {
   "cell_type": "code",
   "execution_count": 2,
   "metadata": {
    "collapsed": false
   },
   "outputs": [
    {
     "name": "stdout",
     "output_type": "stream",
     "text": [
      "Temp=31.0*C  Humidity=51.0%\n"
     ]
    }
   ],
   "source": [
    "import Adafruit_DHT\n",
    "sensor = Adafruit_DHT.DHT11\n",
    "\n",
    "pin = 2\n",
    "\n",
    "humidity, temperature = Adafruit_DHT.read_retry(sensor, pin)\n",
    "\n",
    "if humidity is not None and temperature is not None:\n",
    "    print('Temp={0:0.1f}*C  Humidity={1:0.1f}%'.format(temperature, humidity))\n",
    "else:\n",
    "    print('Failed to get reading. Try again!')"
   ]
  },
  {
   "cell_type": "code",
   "execution_count": null,
   "metadata": {
    "collapsed": true
   },
   "outputs": [],
   "source": []
  }
 ],
 "metadata": {
  "kernelspec": {
   "display_name": "Python 3",
   "language": "python",
   "name": "python3"
  },
  "language_info": {
   "codemirror_mode": {
    "name": "ipython",
    "version": 3
   },
   "file_extension": ".py",
   "mimetype": "text/x-python",
   "name": "python",
   "nbconvert_exporter": "python",
   "pygments_lexer": "ipython3",
   "version": "3.4.2"
  }
 },
 "nbformat": 4,
 "nbformat_minor": 0
}
