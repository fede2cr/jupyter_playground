{
 "cells": [
  {
   "cell_type": "markdown",
   "metadata": {},
   "source": [
    "# Laboratorio práctico\n",
    "\n",
    "## Objetivo\n",
    "\n",
    "1. Repasar las lecciones aprendidas durante el curso\n",
    "2. Instalar desde cero un ambiente Web siguiendo mejores prácticas para ambiente en producción\n",
    "3. Utilizar ambientes híbridos con Apache, Nginx y lenguajes dinámicos\n",
    "4. Integrar balanceo de servidores con herramientas como Haproxy\n",
    "\n",
    "\n",
    "### Mejores prácticas\n",
    "\n",
    "- [ ] Utilice archivos de virtualhost independientes para cada sitio web\n",
    "- [ ] Utilice bitácoras independientes para cada Virtualhost\n",
    "- [ ] Habilite SSL con configuración del [Mozilla SSL Generator](https://mozilla.github.io/server-side-tls/ssl-config-generator/)\n",
    "\n",
    "### Labores a realizar\n",
    "\n",
    "- [ ] Instala una aplicación web a escoger en el contenedor **app**, siguiendo las mejores prácticas\n",
    "- [ ] Instale un balanceador con Haproxy en el contenedor **haproxy**, habilitando su aplicación. De forma opcional puede agregar otros servidores Web.\n",
    "- [ ] Habilite captura de protocolo de SSL, y referer, en las bitácoras del servidor.\n",
    "- [ ] Deshabilite módulos y configure el MPM o worker para evitar caídas del servidor.\n",
    "- [ ] Utilice la herramienta ab(1) para realizar pruebas de carga en su servidor y comprobar que no se cae por sobre-carga.\n",
    "\n",
    "**Importante**: Utilice esta libreta de Jupyter para ir documentando los pasos necesarios, indicando en cual contenedor se deben ejecutar los pasos, o cuando se realizan operaciones desde línea de comando."
   ]
  }
 ],
 "metadata": {
  "kernelspec": {
   "display_name": "Bash",
   "language": "bash",
   "name": "bash"
  },
  "language_info": {
   "codemirror_mode": "shell",
   "file_extension": ".sh",
   "mimetype": "text/x-sh",
   "name": "bash"
  }
 },
 "nbformat": 4,
 "nbformat_minor": 2
}
