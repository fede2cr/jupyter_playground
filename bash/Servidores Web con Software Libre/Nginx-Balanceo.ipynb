{
 "cells": [
  {
   "cell_type": "markdown",
   "metadata": {},
   "source": [
    "# Nginx con balanceo\n",
    "\n",
    "De forma similar a Apache, Nginx también tiene integrada la funcionalidad de balanceo de servidores, con la capacidad adicional de poder detectar caídas y remover servidores no aptos para producción.\n",
    "\n",
    "Iniciamos por la instalación básica de Nginx:"
   ]
  },
  {
   "cell_type": "code",
   "execution_count": null,
   "metadata": {
    "collapsed": true
   },
   "outputs": [],
   "source": [
    "sudo apt-get -y install nginx"
   ]
  },
  {
   "cell_type": "markdown",
   "metadata": {},
   "source": [
    "### Configuración\n",
    "\n",
    "Vamos a crear un balancer básico, donde vamos a apuntar a diversos contenedores con contenido idéntico. Para ello vamos a eliminar las líneas del virtualhost default y las vamos a reemplazar por el siguiente contenido:\n",
    "\n",
    "Edite el archivo ``/etc/nginx/sites-enabled/default``.\n",
    "\n",
    "```\n",
    "server {\n",
    "\n",
    "  listen 80;\n",
    "  server_name example.com www.example.com;\n",
    "\n",
    "  location / {\n",
    "     proxy_pass  http://appcluster;\n",
    "     include /etc/nginx/proxy_params;\n",
    "  }\n",
    "\n",
    "}\n",
    "\n",
    "upstream appcluster {\n",
    "   ip_hash;\n",
    "   server 10.42.25.30:80 weight=1 max_fails=2;\n",
    "   server 10.42.25.31:80 weight=1 max_fails=2;\n",
    "   server 10.42.25.32:80 weight=2 max_fails=2;\n",
    "   server 10.42.25.33:80 weight=2 max_fails=2;\n",
    "}\n",
    "\n",
    "```\n",
    "\n",
    "Edite las direcciones IP según sea necesario.\n",
    "\n",
    "Reiniciamos Nginx y comprobamos el acceso."
   ]
  },
  {
   "cell_type": "code",
   "execution_count": null,
   "metadata": {},
   "outputs": [],
   "source": [
    "sudo systemctl restart nginx\n",
    "sudo systemctl status nginx | cat"
   ]
  },
  {
   "cell_type": "markdown",
   "metadata": {},
   "source": [
    "Visitamos el sitio web en http://10.42.25.XX/ donde XX sería el IP del proxy."
   ]
  }
 ],
 "metadata": {
  "kernelspec": {
   "display_name": "Bash",
   "language": "bash",
   "name": "bash"
  },
  "language_info": {
   "codemirror_mode": "shell",
   "file_extension": ".sh",
   "mimetype": "text/x-sh",
   "name": "bash"
  }
 },
 "nbformat": 4,
 "nbformat_minor": 2
}
