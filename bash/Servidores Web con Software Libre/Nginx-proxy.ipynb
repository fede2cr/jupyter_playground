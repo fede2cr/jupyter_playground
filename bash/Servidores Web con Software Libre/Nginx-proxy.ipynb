{
 "cells": [
  {
   "cell_type": "markdown",
   "metadata": {},
   "source": [
    "# Proxy con Nginx\n",
    "\n",
    "Nginx fue pensado desde su inicio para ser tanto un servidor de páginas, como también tener la capacidad de funcionar únicamente como proxy sin tener contenido propio, por lo que ha sido fuertemente optimizado para esta función.\n",
    "\n",
    "La configuración del proxy también ha sido simplificada de forma que podemos fácilmente administrar cientos de sitios de forma sencilla.\n",
    "\n",
    "De esta forma se puede integrar con otros servidores de aplicación como lo puede ser el mismo Apache HTTPD, así como también servidores de Python, NodeJS, Rust, servidores propietarios como IIS o integración de aplicaciones bajo una misma dirección."
   ]
  },
  {
   "cell_type": "code",
   "execution_count": null,
   "metadata": {},
   "outputs": [],
   "source": [
    "sudo apt-get -y install nginx"
   ]
  },
  {
   "cell_type": "markdown",
   "metadata": {},
   "source": [
    "### Configuración\n",
    "\n",
    "Para manejar nuestro proxy en lugar de utilizar el archivo ``default`` vamos a crear un nuevo archivo bajo ``/etc/nginx/sites-available/proxy_reverso`` con el siguiente contenido:\n",
    "\n",
    "```\n",
    "server {\n",
    "    listen 80;\n",
    "    server_name ejemplo.com;\n",
    "\n",
    "    location / {\n",
    "        proxy_pass http://10.42.25.XX:5000;\n",
    "        proxy_set_header Host $host;\n",
    "        proxy_set_header X-Real-IP $remote_addr;\n",
    "        proxy_set_header X-Forwarded-For $proxy_add_x_forwarded_for;\n",
    "        proxy_set_header X-Forwarded-Proto $scheme;\n",
    "    }\n",
    "}\n",
    "```\n",
    "\n",
    "Eliminamos el archivo de configuración ``default`` y procedemos a reiniciar el servicio."
   ]
  },
  {
   "cell_type": "code",
   "execution_count": null,
   "metadata": {},
   "outputs": [],
   "source": [
    "sudo rm /etc/nginx/sites-enabled/default\n",
    "sudo ln -s /etc/nginx/sites-available/proxy /etc/nginx/sites-enabled/proxy\n",
    "sudo systemctl restart nginx\n",
    "sudo systemctl status nginx | cat"
   ]
  },
  {
   "cell_type": "markdown",
   "metadata": {},
   "source": [
    "### Sitio final\n",
    "\n",
    "Visite ahora la dirección del servidor con Nginx donde debería observar la aplicación de OctoPrint de forma transparente.\n",
    "\n",
    "http://10.42.25.XX/\n"
   ]
  }
 ],
 "metadata": {
  "kernelspec": {
   "display_name": "Bash",
   "language": "bash",
   "name": "bash"
  },
  "language_info": {
   "codemirror_mode": "shell",
   "file_extension": ".sh",
   "mimetype": "text/x-sh",
   "name": "bash"
  }
 },
 "nbformat": 4,
 "nbformat_minor": 2
}
