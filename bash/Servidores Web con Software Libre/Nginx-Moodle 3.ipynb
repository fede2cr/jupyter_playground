{
 "cells": [
  {
   "cell_type": "markdown",
   "metadata": {},
   "source": [
    "# Moodle 3\n",
    "\n",
    "Con esta guía de Jupyter vamos a lograr instalar una versión reciente de Moodle, en un servidor Ubuntu 16.04 recién instalado.\n",
    "\n",
    "Primero debe instalar los componentes del servidor \"LEMP\", inciciando por la instalación de la base de datos. Seguidamente descargamos el código de Moodle.\n",
    "\n",
    "Por último, creamos la base de datos a ser utilizada por Moodle, y luego corremos el instalador Web.\n",
    "\n",
    "\n",
    "### PostgreSQL\n",
    "\n",
    "PostgreSQL es motor de base de datos relacional con una impresionante cantidad de características como pueden ser manejo de cubos, vistas, procedimientos almacenados, GIS, replicación de multi-maestro entre otras.\n",
    "\n",
    "Se recomienda por parte de varios administradores de Drupal por asuntos de desempeño, por lo que en esta guía veremos este poderoso motor."
   ]
  },
  {
   "cell_type": "code",
   "execution_count": null,
   "metadata": {},
   "outputs": [],
   "source": [
    "sudo apt-get install -y postgresql postgresql-contrib"
   ]
  },
  {
   "cell_type": "markdown",
   "metadata": {},
   "source": [
    "### Nginx y Php\n",
    "\n",
    "Procedemos ahora a instalar Nginx y Php en versión 'FPM'.\n",
    "\n",
    "Así mismo instalamos módulos de Php requeridos por la aplicación Moodle, según la documentación del fabricante.\n",
    "\n",
    "Nota: No vamos a reiniciar el servicio de Nginx en este momento, sino hasta luego de editar archivos de configuración."
   ]
  },
  {
   "cell_type": "code",
   "execution_count": null,
   "metadata": {},
   "outputs": [],
   "source": [
    "sudo apt-get -y install php-fpm php-curl php-gd php-xmlrpc php-intl php-xml php-zip \\\n",
    " php-mbstring php-soap php-pgsql\n",
    "sudo apt-get -y install nginx"
   ]
  },
  {
   "cell_type": "markdown",
   "metadata": {},
   "source": [
    "### Cambios menores en Apache\n",
    "\n",
    "**Desde una terminal**, y utilizando su editor preferido, debe cambiar dos archivos de la siguiente forma:\n",
    "\n",
    "**Archivo:** ``/etc/nginx/sites-enabled/default``\n",
    "\n",
    "**Cambio:** Vamos eliminar las líneas existentes y a agregar esta definición de virtualhost.\n",
    "\n",
    "```\n",
    "server {\n",
    "    server_name moodle.ejemplo.com;\n",
    "    listen 80;\n",
    "        root /var/www/html;\n",
    "        rewrite ^/(.*\\.php)(/)(.*)$ /$1?file=/$3 last;\n",
    "\n",
    "        location ^~ / {\n",
    "                try_files $uri $uri/ /index.php?q=$request_uri;\n",
    "                index index.php index.html index.htm;\n",
    "\n",
    "                location ~ \\.php$ {\n",
    "                        include snippets/fastcgi-php.conf;\n",
    "                        fastcgi_pass unix:/run/php/php7.0-fpm.sock;\n",
    "                }\n",
    "        }\n",
    "}   \n",
    "```\n",
    "\n",
    "Reiniciamos Nginx y mostramos el estado del servicio.\n",
    "\n",
    "## Moodle\n",
    "\n",
    "La última versión y recomendada de Moodle es la 3.3.1 que vamos a descargar. Sin embargo lo vamos a hacer vía **Git** que es la forma preferida para algunos administradores de Moodle, por lo que vamos a definir el repo en el *Branch* llamado **MOODLE_33_STABLE**.\n",
    "\n",
    "**Importante**: El repositorio pesa varios cientos de Megas (~, dado que no es solo el código de Moodle sino también la historia del repositorio. Debe evaluar esto como una ventaja/desventaja vs los métodos utilizados en el tutorial de Apache, y recordar que el método de Git es completamente independiente a Apache/Nginx. En ambiente de aula se recomienda realizar la descarga de forma local, y copiarla, para no descargar varias veces el repositorio.\n",
    "\n",
    "Vamos a instalar la herramienta de Git así como la herramienta de Acls en Linux, para darnos permisos de escritura al directorio."
   ]
  },
  {
   "cell_type": "code",
   "execution_count": null,
   "metadata": {
    "scrolled": true
   },
   "outputs": [],
   "source": [
    "sudo systemctl restart nginx\n",
    "sudo systemctl status nginx | cat\n",
    "sudo apt-get install -y git acl\n",
    "git clone https://github.com/moodle/moodle.git\n",
    "cd moodle\n",
    "git remote show origin\n",
    "git checkout MOODLE_33_STABLE\n",
    "ls -lh"
   ]
  },
  {
   "cell_type": "markdown",
   "metadata": {},
   "source": [
    "Descomprimimos el código de Moodle dentro de /var/www/html que es el directorio default de Nginx en Debian/Ubuntu.\n",
    "\n",
    "En un sistema en producción se recomienda crear un directorio para cada virtualhost, o un único virtualhost para Moodle y hacer uso de la función de \"Multi tenant\" para trabajar varios clientes con una sola instancia de la aplicación.\n",
    "\n",
    "Importante que el código queda con derechos de **www-data**, usuario que utiliza Debian para el servicio de web de Nginx. Esto porque Moodle debe poder manipular archivos dentro de la carpeta."
   ]
  },
  {
   "cell_type": "code",
   "execution_count": null,
   "metadata": {},
   "outputs": [],
   "source": [
    "cd\n",
    "sudo rm -r /var/www/html\n",
    "sudo mv moodle /var/www/html\n",
    "sudo chown -R www-data:www-data /var/www/html\n",
    "sudo setfacl -R -m u:greencore:rwX /var/www/html\n",
    "ls /var/www/html"
   ]
  },
  {
   "cell_type": "markdown",
   "metadata": {},
   "source": [
    "### Creación de base de datos\n",
    "\n",
    "Antes de ejecutar el instalador Web de Moodle debemos crear la base de datos y el usuario que usará la aplicación de Moodle.\n",
    "\n",
    "Para ello vamos a utilizar el comando de mysql(1), definiendo la contraseña \"greencore\" en la misma línea de comando."
   ]
  },
  {
   "cell_type": "code",
   "execution_count": null,
   "metadata": {},
   "outputs": [],
   "source": [
    "sudo -u postgres psql << EOF\n",
    "CREATE USER moodle WITH PASSWORD 'greencore';\n",
    "CREATE DATABASE moodle;\n",
    "GRANT ALL PRIVILEGES ON DATABASE moodle to moodle;\n",
    "\\q\n",
    "EOF"
   ]
  },
  {
   "cell_type": "markdown",
   "metadata": {},
   "source": [
    "## Configuración de Moodle\n",
    "\n",
    "Para el caso de Moodle, hace falta un directorio adicional llamado ``/var/www/moodledata`` el cual debemos crear y asignar permisos para que Moodle pueda crear contenido en este lugar cuando sea necesario."
   ]
  },
  {
   "cell_type": "code",
   "execution_count": null,
   "metadata": {
    "collapsed": true
   },
   "outputs": [],
   "source": [
    "sudo mkdir /var/www/moodledata\n",
    "sudo chown -R www-data /var/www/moodledata\n",
    "sudo chmod -R 0770 /var/www/moodledata"
   ]
  },
  {
   "cell_type": "markdown",
   "metadata": {},
   "source": [
    "### Instalador web\n",
    "\n",
    "No es necesario manipular ningún archivo Php para definir la configuración de nuestro sitio. Visitamos el sitio web, donde nos recibe el instalador Web de Moodle. Este funciona en estilo \"wizard\" donde simplemente vamos contestando con cuidado las consultas que nos hace.\n",
    "\n",
    "http://10.42.25.6X/\n",
    "\n",
    "**Importante**: Seleccione el \"Database driver\" de **PostgreSQL** en lugar de Improved Mysql.\n",
    "\n",
    "En el instalador puede usar valores que usaría en un sitio en producción.\n",
    "Recuerde utilizar para este laboratorio el usuario \"admin\", aunque no va a aceptar la contraseña \"greencore\" para facilitar la revisión de errores o dudas. Se recomienda **Gr33nc0r3.** para este laboratorio."
   ]
  }
 ],
 "metadata": {
  "kernelspec": {
   "display_name": "Bash",
   "language": "bash",
   "name": "bash"
  },
  "language_info": {
   "codemirror_mode": "shell",
   "file_extension": ".sh",
   "mimetype": "text/x-sh",
   "name": "bash"
  }
 },
 "nbformat": 4,
 "nbformat_minor": 2
}
