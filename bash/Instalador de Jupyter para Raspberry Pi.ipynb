{
 "cells": [
  {
   "cell_type": "markdown",
   "metadata": {
    "collapsed": false
   },
   "source": [
    "# Scripts necesario para instalar Jupyter y otros componentes\n",
    "\n",
    "### Nota: En lugar de usar \"%%bash\", se van a código de python con ! para escapar a shell\n",
    "### Esto porque Jupyter maneja mejor la salida en python que en bash\n",
    "\n",
    "Para ejecutar este instalador solo debe darle click a alguna parte del código y digitar CTRL+Enter.\n",
    "El código también está hecho para correr sobre una Pi con Rasbpian, o al menos un equipo con una distro basada en Debian, con permiso para usar sudo sin contraseña, y con pip3 instalado."
   ]
  },
  {
   "cell_type": "code",
   "execution_count": 2,
   "metadata": {
    "collapsed": false
   },
   "outputs": [
    {
     "name": "stdout",
     "output_type": "stream",
     "text": [
      "Requirement already satisfied (use --upgrade to upgrade): jupyter in /usr/local/lib/python3.4/dist-packages\n",
      "Cleaning up...\n",
      "Requirement already satisfied (use --upgrade to upgrade): matplotlib in /usr/local/lib/python3.4/dist-packages\n",
      "Requirement already satisfied (use --upgrade to upgrade): numpy>=1.6 in /usr/lib/python3/dist-packages (from matplotlib)\n",
      "Requirement already satisfied (use --upgrade to upgrade): python-dateutil in /usr/local/lib/python3.4/dist-packages (from matplotlib)\n",
      "Requirement already satisfied (use --upgrade to upgrade): pytz in /usr/local/lib/python3.4/dist-packages (from matplotlib)\n",
      "Requirement already satisfied (use --upgrade to upgrade): cycler in /usr/local/lib/python3.4/dist-packages (from matplotlib)\n",
      "Requirement already satisfied (use --upgrade to upgrade): pyparsing!=2.0.0,!=2.0.4,>=1.5.6 in /usr/local/lib/python3.4/dist-packages (from matplotlib)\n",
      "Cleaning up...\n"
     ]
    }
   ],
   "source": [
    "! sudo pip3 install jupyter\n",
    "! sudo pip3 install matplotlib"
   ]
  },
  {
   "cell_type": "code",
   "execution_count": null,
   "metadata": {
    "collapsed": true
   },
   "outputs": [],
   "source": []
  }
 ],
 "metadata": {
  "kernelspec": {
   "display_name": "Python 3",
   "language": "python",
   "name": "python3"
  },
  "language_info": {
   "codemirror_mode": {
    "name": "ipython",
    "version": 3
   },
   "file_extension": ".py",
   "mimetype": "text/x-python",
   "name": "python",
   "nbconvert_exporter": "python",
   "pygments_lexer": "ipython3",
   "version": "3.4.2"
  }
 },
 "nbformat": 4,
 "nbformat_minor": 0
}
