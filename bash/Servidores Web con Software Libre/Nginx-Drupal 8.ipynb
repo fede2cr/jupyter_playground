{
 "cells": [
  {
   "cell_type": "markdown",
   "metadata": {},
   "source": [
    "# Drupal 8\n",
    "\n",
    "Con esta guía de Jupyter vamos a lograr instalar una versión reciente de Drupal, en un servidor Ubuntu 16.04 recién instalado.\n",
    "\n",
    "Primero debe instalar los componentes del servidor \"LEMP\", inciciando por la instalación de la base de datos. Seguidamente descargamos el código de Drupal.\n",
    "\n",
    "Por último, creamos la base de datos a ser utilizada por Drupal, y luego corremos el instalador Web.\n",
    "\n",
    "\n",
    "### MariaDB\n",
    "MySQL y MariaDB tienen algunas pequeñas diferencias pero para nuestro objetivo son técnicamente equivalente, por lo cual vamos a preferir MariaDB sobre MySQL.\n",
    "\n",
    "A la hora de instalar la base de datos de MariaDB, la herramienta de Apt de Debian va a insistir en solicitarnos una contraseña para el usuario \"root\" de la base de datos, el cual vamos a utilizar para tareas de administración.\n",
    "\n",
    "Para evitar que en esta guía se nos solicite contraseña, vamos a usar el comando ``debconf-set-selections`` para definir la contraseña de antemano.\n",
    "\n",
    "Nota: El usuario \"root\" de MariaDB y el de Linux son completamente aparte."
   ]
  },
  {
   "cell_type": "code",
   "execution_count": null,
   "metadata": {},
   "outputs": [],
   "source": [
    "echo \"mariadb-server mysql-server/root_password password greencore\" | sudo debconf-set-selections\n",
    "echo \"mariadb-server mysql-server/root_password_again password greencore\" | sudo debconf-set-selections\n",
    "sudo apt-get -y install mariadb-server"
   ]
  },
  {
   "cell_type": "markdown",
   "metadata": {},
   "source": [
    "### Nginx y Php-fpm\n",
    "\n",
    "Con Nginx no podemos usar el paquete de Php que es módulo para Apache, pero podemos utilizar ya sea Php-fpm o HHVM. En este caso usaremos Php-fpm pero se recomienda realizar sus propias pruebas de desempeño y estabilidad en la aplicación para decidir cual se comporta mejor para su escenario.\n",
    "\n",
    "Nota: No vamos a reiniciar el servicio de Nginx en este momento, sino hasta luego de editar archivos de configuración."
   ]
  },
  {
   "cell_type": "code",
   "execution_count": null,
   "metadata": {},
   "outputs": [],
   "source": [
    "sudo apt-get -y install nginx\n",
    "sudo apt-get -y install php7.0-fpm php7.0-cli php7.0-gd php7.0-mysql php7.0-xml"
   ]
  },
  {
   "cell_type": "markdown",
   "metadata": {},
   "source": [
    "### Cambios en Php\n",
    "\n",
    "**Desde una terminal**, y utilizando su editor preferido, debe cambiar dos archivos de la siguiente forma:\n",
    "\n",
    "**Archivo:** ``/etc/php/7.0/fpm/php.ini``\n",
    "\n",
    "**Cambio:** Debemos activar compatibilidad entre Php y FastCGI, y la forma en como intercambian con URLs.\n",
    "\n",
    "```nginx\n",
    "cgi.fix_pathinfo=0\n",
    "```\n",
    "\n",
    "**Archivo:** ``/etc/nginx/sites-available/default``\n",
    "\n",
    "**Cambio:** Vamos a activar soporte para Php, incluyendo un archivo de configuración. Vamos a eliminar el resto de configuración, y agregar estos parámetros:\n",
    "\n",
    "```\n",
    "server {\n",
    "    server_name ejemplo.com;\n",
    "\n",
    "    access_log /var/log/nginx/ejemplo.com-access.log;\n",
    "    error_log /var/log/nginx/ejemplo.com-error.log;\n",
    "    root /var/www/html/;\n",
    "\n",
    "    location / {\n",
    "        index index.php;\n",
    "        try_files $uri $uri/ /index.php$is_args$args;\n",
    "    }\n",
    "\n",
    "location ~ \\.php$ {\n",
    "                include snippets/fastcgi-php.conf;\n",
    "                fastcgi_pass unix:/run/php/php7.0-fpm.sock;\n",
    "        fastcgi_param SCRIPT_FILENAME $document_root$fastcgi_script_name;\n",
    "    }\n",
    "}\n",
    "\n",
    "```\n",
    "\n",
    "Reiniciamos Nginx y mostramos el estado del servicio.\n",
    "\n",
    "## Drupal\n",
    "\n",
    "Descargamos la última versión de Drupal."
   ]
  },
  {
   "cell_type": "code",
   "execution_count": null,
   "metadata": {},
   "outputs": [],
   "source": [
    "sudo systemctl restart nginx\n",
    "sudo systemctl restart php7.0-fpm\n",
    "sudo systemctl status nginx | cat\n",
    "sudo systemctl status php7.0-fpm | cat\n",
    "wget -qc https://ftp.drupal.org/files/projects/drupal-8.3.5.tar.gz\n",
    "ls -lh"
   ]
  },
  {
   "cell_type": "markdown",
   "metadata": {},
   "source": [
    "Descomprimimos el código de Drupal dentro de /var/www/html que es el directorio default de Nginx.\n",
    "\n",
    "En un sistema en producción se recomienda crear un directorio para cada virtualhost, o un único virtualhost para drupal y hacer uso de la función de \"Multi tenant\" para trabajar varios clientes con una sola instancia de la aplicación.\n",
    "\n",
    "Importante que el código queda con derechos de **www-data**, usuario que utiliza Debian para el servicio de web de Nginx. Esto porque Drupal debe poder manipular archivos dentro de la carpeta."
   ]
  },
  {
   "cell_type": "code",
   "execution_count": null,
   "metadata": {},
   "outputs": [],
   "source": [
    "sudo tar xzf ~/drupal-8.3.5.tar.gz -C /var/www/\n",
    "sudo rm -r /var/www/html\n",
    "sudo mv /var/www/drupal-8.3.5 /var/www/html\n",
    "sudo chown -R www-data:www-data /var/www/html\n",
    "ls /var/www/html"
   ]
  },
  {
   "cell_type": "markdown",
   "metadata": {},
   "source": [
    "### Creación de base de datos\n",
    "\n",
    "Antes de ejecutar el instalador Web de Drupal debemos crear la base de datos y el usuario que usará la aplicación de Drupal.\n",
    "\n",
    "Para ello vamos a utilizar el comando de mysql(1), definiendo la contraseña \"greencore\" en la misma línea de comando."
   ]
  },
  {
   "cell_type": "code",
   "execution_count": null,
   "metadata": {
    "collapsed": true
   },
   "outputs": [],
   "source": [
    "sudo mysql -u root -pgreencore << EOF\n",
    "CREATE DATABASE drupal;\n",
    "CREATE USER 'drupal' IDENTIFIED BY 'greencore';\n",
    "GRANT ALL ON drupal.* TO 'drupal';\n",
    "EOF"
   ]
  },
  {
   "cell_type": "markdown",
   "metadata": {},
   "source": [
    "### Instalador web\n",
    "\n",
    "No es necesario manipular ningún archivo Php para definir la configuración de nuestro sitio. Visitamos el sitio web, donde nos recibe el instalador Web de Drupal. Este funciona en estilo \"wizard\" donde simplemente vamos contestando con cuidado las consultas que nos hace.\n",
    "\n",
    "http://10.42.25.3X/core/install.php\n",
    "\n",
    "En \"Set up database\"\n",
    "- Base de datos \"drupal\"\n",
    "- Usario \"drupal\"\n",
    "- Contraseña \"greencore\"\n",
    "\n",
    "En \"Configuration site\" puede usar valores que usaría en un sitio en producción.\n",
    "Recuerde utilizar para este laboratorio el usuario \"admin\", con contraseña \"greencore\" para facilitar la revisión de errores o dudas."
   ]
  }
 ],
 "metadata": {
  "kernelspec": {
   "display_name": "Bash",
   "language": "bash",
   "name": "bash"
  },
  "language_info": {
   "codemirror_mode": "shell",
   "file_extension": ".sh",
   "mimetype": "text/x-sh",
   "name": "bash"
  }
 },
 "nbformat": 4,
 "nbformat_minor": 2
}
