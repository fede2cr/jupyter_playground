{
 "cells": [
  {
   "cell_type": "markdown",
   "metadata": {},
   "source": [
    "# Proxy con SSL\n",
    "\n",
    "Uno de los primeros servidores Web en trabajar el protocolo TLS 1.3, Nginx es una excelente opción como servidor de contenido Web con SSL/TLS así como puede ser también usado en conjunto con la funcionalidad de Proxy para trabajar como un concentrador de TLS para servidores que no tienen la funcionalidad deseada.\n",
    "\n",
    "Comenzamos instalando Nginx:"
   ]
  },
  {
   "cell_type": "code",
   "execution_count": null,
   "metadata": {},
   "outputs": [],
   "source": [
    "sudo apt-get -y install nginx"
   ]
  },
  {
   "cell_type": "markdown",
   "metadata": {},
   "source": [
    "### Configuración\n",
    "\n",
    "Para configurar HTTPS siempre se recomienda utilizar un servicio como el [Mozilla SSL Generator](https://mozilla.github.io/server-side-tls/ssl-config-generator/), por la razón que los algoritmos válidos y seguros de TLS cambian constantemente, y es necesario conocimiento básico de criptografía para poder navegar su nomenclatura.\n",
    "\n",
    "Desde el Mozilla SSL Generator seleccione la opción de \"Nginx\" y use la configuración presentada por el servidor como una base para su virtualhost.\n",
    "\n",
    "Edite el archivo ``/etc/nginx/sites-enabled/default``.\n",
    "\n",
    "### Certificados de SSL\n",
    "\n",
    "**Importante**: Vamos a crear un *Certificate Autority* en ambiente académico. En ambiente de producción hay que seguir una serie de normas para que un CA privado se considere seguro.\n",
    "\n",
    "En este laboratorio vamos a usar la herramienta TinyCA, pero en ambiente de producción se recomienda usar un servicio como Let's Encrypt."
   ]
  },
  {
   "cell_type": "code",
   "execution_count": null,
   "metadata": {
    "collapsed": true
   },
   "outputs": [],
   "source": [
    "sudo apt-get install -y tinyca"
   ]
  },
  {
   "cell_type": "markdown",
   "metadata": {},
   "source": [
    "Desde **una terminal**, conéctese al contenedor virtual usando el comando:\n",
    "\n",
    "```\n",
    "ssh 10.42.25.XX -Y\n",
    "```\n",
    "\n",
    "Una vez dentro del servidor digite:\n",
    "```\n",
    "contenedor$ tinyca2\n",
    "```"
   ]
  }
 ],
 "metadata": {
  "kernelspec": {
   "display_name": "Bash",
   "language": "bash",
   "name": "bash"
  },
  "language_info": {
   "codemirror_mode": "shell",
   "file_extension": ".sh",
   "mimetype": "text/x-sh",
   "name": "bash"
  }
 },
 "nbformat": 4,
 "nbformat_minor": 2
}
