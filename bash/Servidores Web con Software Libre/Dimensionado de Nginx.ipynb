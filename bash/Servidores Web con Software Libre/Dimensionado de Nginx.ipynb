{
 "cells": [
  {
   "cell_type": "markdown",
   "metadata": {},
   "source": [
    "# Dimensionado de Nginx\n",
    "\n",
    "Un problema común en servidores Web es que un pico de usuarios lleve la carga del servidor a un punto donde se agote la memoria RAM del servidor y se comience a utilizar la memoria de intercambio o *SWAP*.\n",
    "\n",
    "Al el SWAP estar basado en almacenamiento de disco duro, es varias órdenes de magnitud más lento que la memoria RAM por que la velocidad de respuesta de los procesos así como el acceso a dispositivos de almacenamiento bajan considerablemente.\n",
    "\n",
    "Una vez en este estado incluso el conectarnos por SSH al servidor para detener el servicio o realizar reparación de emergencia podría verse seriamente afectado, por lo que la duración de la caída del sitio se maximiza y en ocasiones hay que optar por reiniciar el servidor ya sea físico o virtual.\n",
    "\n",
    "Lo mejor es optimizar los servidores Web para que utilicen únicamente los recursos disponibles en el servidor y en una situación de sobre carga solamente una cantidad mínima de usuarios se verían afectados y nos permite inclusive crecer la granja de servidor en agregando más servidores Web evitando la interrupción a los usuarios.\n",
    "\n",
    "En el caso de Nginx la configuración es bastante más sencilla porque no tienen módulos \"MPM\" sino que solamente cambiamos dos variables en la configuración. Opcionalmente podemos optimizar los \"buffers\", timeouts y caché del servidor para lograr avances en desempeño."
   ]
  },
  {
   "cell_type": "code",
   "execution_count": null,
   "metadata": {},
   "outputs": [],
   "source": [
    "sudo apt-get -y install nginx"
   ]
  },
  {
   "cell_type": "markdown",
   "metadata": {},
   "source": [
    "Vamos ahora a calcular el peso de el proceso de Apache.\n",
    "\n",
    "**Importante**: Se debe calcular el peso de Apache cuando ha estado sirviendo contenido. El nuestro se encuentra \"virgen\" por lo que los resultados podrían ser menores.\n",
    "\n",
    "Para ello vamos a utilizar la herramienta de ``ps(1)`` la cual lista procesos en sistemas Unix.\n",
    "\n",
    "Para explicar la línea de comando completa, vamos a ir agregando porciones de código al uso básico de la herramienta ``ps(1)``.\n",
    "\n",
    "Ejecute los siguientes comandos de forma individual, entendiendo la diferencia entre las ejecuciones y los cambios en la línea de comando de cada uno."
   ]
  },
  {
   "cell_type": "code",
   "execution_count": null,
   "metadata": {},
   "outputs": [],
   "source": [
    "# Forma tradicional de usar ps(1). Útil para listar todos los proceso del equipo en forma de árbol\n",
    "ps faxw | head -20"
   ]
  },
  {
   "cell_type": "code",
   "execution_count": null,
   "metadata": {},
   "outputs": [],
   "source": [
    "# ps(1) mostrando solo procesos de Apache\n",
    "ps -C nginx"
   ]
  },
  {
   "cell_type": "code",
   "execution_count": null,
   "metadata": {},
   "outputs": [],
   "source": [
    "# Ahora solicitamos mostrar la columna de RSS o Resident Set Size\n",
    "ps -o rss -C nginx\n",
    "\n",
    "# Por comparación, otras métricas disponibles en ps(1). RSS se considera la más precisa para nuestra necesidad.\n",
    "ps -o size -C nginx\n",
    "ps -o vsz -C nginx"
   ]
  },
  {
   "cell_type": "code",
   "execution_count": null,
   "metadata": {},
   "outputs": [],
   "source": [
    "# Para manipular el número, queremos eliminar el encabezado de columnas\n",
    "ps -o rss -C nginx --no-headers"
   ]
  },
  {
   "cell_type": "code",
   "execution_count": null,
   "metadata": {},
   "outputs": [],
   "source": [
    "# Como existen varios procesos de Apache, nótese que tienen diferentes tamaños de memoria.\n",
    "# Por esta razón vamos a crear un promedio, aprovechando para traducir el valor a megabytes.\n",
    "ps -o rss -C nginx --no-headers | awk '{total+=$0} END {print total/NR/1024}'"
   ]
  },
  {
   "cell_type": "code",
   "execution_count": null,
   "metadata": {},
   "outputs": [],
   "source": [
    "# Por último, vamos a guardar el valor dentro de una variable, para poder imprimir nuestros cálculos de Workers\n",
    "httpd_mem=$(ps -o rss -C nginx --no-headers | awk '{total+=$0} END {print total/NR/1024}')\n",
    "\n",
    "echo $httpd_mem"
   ]
  },
  {
   "cell_type": "code",
   "execution_count": null,
   "metadata": {
    "scrolled": true
   },
   "outputs": [],
   "source": [
    "# Ahora podemos seguir utilizando el valor dentro de esta receta de Jupyter.\n",
    "\n",
    "echo $httpd_mem"
   ]
  },
  {
   "cell_type": "markdown",
   "metadata": {},
   "source": [
    "### Configuración de Nginx\n",
    "Iniciamos por medir le memoria disponible, en megas, y guardando el valor en una variable.\n",
    "\n",
    "También vamos a contar la cantidad de procesadores/cores disponibles en el servidor.\n",
    "\n",
    "**Importante**: En este tutorial vamos a asumir que si existe un componente de base de datos (PostgreSQL, MySQL, MongoDB, etc) se encuentra en un servidor aparte. Si ud corre la base de datos en el servidor, debe definir cuanta memoria va a dedicar a la base de datos, y elminar esta memoria de la memoria total, así como realizar mediciones para verificar que no se sobre pasa de la memoria asignada."
   ]
  },
  {
   "cell_type": "code",
   "execution_count": null,
   "metadata": {},
   "outputs": [],
   "source": [
    "mem_total=$(grep MemTotal /proc/meminfo | awk '{print $2/1024}')\n",
    "cpus_total=$(grep -c processor /proc/cpuinfo)\n",
    "\n",
    "echo $mem_total\n",
    "echo $cpus_total"
   ]
  },
  {
   "cell_type": "markdown",
   "metadata": {},
   "source": [
    "**Archivo**: /etc/nginx/nginx.conf\n",
    "\n",
    "**Cambio**: Ajuste los valores de worker_process y worker_connections según recursos de su servidor."
   ]
  },
  {
   "cell_type": "code",
   "execution_count": null,
   "metadata": {},
   "outputs": [],
   "source": [
    "echo \"worker_processes $cpus_total;\n",
    "worker_connections $( echo $mem_total / $httpd_mem | bc );\"\n"
   ]
  },
  {
   "cell_type": "markdown",
   "metadata": {
    "collapsed": true
   },
   "source": [
    "Puede opcionalmente cambiar los *buffers* que va a utilizar el proceso de Nginx, donde aumentar los valores va a requerir menos acceso a disco, menos lecturas de archivos, y clientes futuros pueden ser servidos con mayor velocidad, pero esto también va a cambiar el tamaño de memoria de Nginx, por lo cual debe recalcular de nuevo los valores de **worker**.\n",
    "\n",
    "```nginx\n",
    "client_body_buffer_size 10K;\n",
    "client_header_buffer_size 1k;\n",
    "client_max_body_size 8m;\n",
    "large_client_header_buffers 2 1k;\n",
    "```"
   ]
  }
 ],
 "metadata": {
  "kernelspec": {
   "display_name": "Bash",
   "language": "bash",
   "name": "bash"
  },
  "language_info": {
   "codemirror_mode": "shell",
   "file_extension": ".sh",
   "mimetype": "text/x-sh",
   "name": "bash"
  }
 },
 "nbformat": 4,
 "nbformat_minor": 2
}
