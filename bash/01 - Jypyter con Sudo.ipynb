{
 "cells": [
  {
   "cell_type": "markdown",
   "metadata": {},
   "source": [
    "# Jupyter con ``sudo``\n",
    "\n",
    "Para cursos es muy útil poder usar libretas de Jupyter en conjunto con aplicaciones como ``apt`` y ``yum``, para realizar laboratorios complejos.\n",
    "\n",
    "Pero todavía no tienen una forma de leer de la terminal por lo que mi recomendación es crear una regla de sudo para que no pida contraseña al usuario.\n",
    "\n",
    "(Me parece apropiado siempre y cuando sea en un ambiente académico, o con un usuario separado y asegurado por otros mecanismos.)\n",
    "\n",
    "Para preparar esto, haga copy paste de este texto en una terminal:\n",
    "```bash\n",
    "echo '%sudo ALL=(ALL) NOPASSWD: ALL'  | sudo tee /etc/sudoers.d/jupyter\n",
    "echo 'Defaults:greencore !requiretty' | sudo tee -a /etc/sudoers.d/jupyter\n",
    "sudo chmod 0440 /etc/sudoers.d/jupyter\n",
    "```"
   ]
  },
  {
   "cell_type": "markdown",
   "metadata": {},
   "source": [
    "Ya con eso deberíamos poder ejecutar comandos con derechos administrativos dentro de la libreta.\n",
    "\n",
    "**Importante**: Comandos como apt-get y yum piden confirmación de varias formas, por lo que se recomienda por lo menos usar el parámetro **``-y``**"
   ]
  },
  {
   "cell_type": "code",
   "execution_count": null,
   "metadata": {},
   "outputs": [],
   "source": [
    "sudo apt install lolcat -yq"
   ]
  },
  {
   "cell_type": "markdown",
   "metadata": {},
   "source": [
    "Ahora que tenemos lolcat, también funcionan colores en la terminal."
   ]
  },
  {
   "cell_type": "code",
   "execution_count": null,
   "metadata": {},
   "outputs": [],
   "source": [
    "dmesg | tail -30 | lolcat"
   ]
  }
 ],
 "metadata": {
  "kernelspec": {
   "display_name": "Bash",
   "language": "bash",
   "name": "bash"
  },
  "language_info": {
   "codemirror_mode": "shell",
   "file_extension": ".sh",
   "mimetype": "text/x-sh",
   "name": "bash"
  }
 },
 "nbformat": 4,
 "nbformat_minor": 2
}
