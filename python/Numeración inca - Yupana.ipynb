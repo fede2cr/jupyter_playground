{
 "cells": [
  {
   "cell_type": "markdown",
   "metadata": {},
   "source": [
    "# Código para utilizar yupana para cálculo matemático\n",
    "\n",
    "![Yupana](https://upload.wikimedia.org/wikipedia/commons/thumb/8/85/Yupana.jpg/337px-Yupana.jpg)\n",
    "\n",
    "La yupana es un ábaco inca, utilizado para contar sobre base 40.\n",
    "\n",
    "Funciona con cuatro \"columnas\", con las cuales vamos a contar hasta 40 que es la base usada para numeración inca.\n",
    "\n",
    "La primera columna es el dígito más hacia la derecha, y es solo una posición. Su presencia indica el número 1.\n",
    "\n",
    "La segunda columna, es de dos dígitos, y su presencia, multiplica cada uno por 2.\n",
    "\n",
    "La tercera columna, es de tres dígitos, y su precencia, multiplica cada uno por 3.\n",
    "\n",
    "La cuarta columna, es de cinco dígitos, y su presencia, multiplica cada uno por 5.\n",
    "\n",
    "Tenemos 11 bits en total.\n",
    "\n",
    "Dicho de otra forma: 55555 333 22 1.\n",
    "\n",
    "Nota: Se utiliza la interpretación de Nicolino de Pasquale del dibujo por el cronista Felipe Guamán Poma de Ayala, el que se observa en la ilustración. Las yupanas arqueológicas son muy diferentes y no usan rejillas."
   ]
  },
  {
   "cell_type": "code",
   "execution_count": 66,
   "metadata": {},
   "outputs": [
    {
     "name": "stdout",
     "output_type": "stream",
     "text": [
      "13\n"
     ]
    }
   ],
   "source": [
    "\n",
    "#yup = '00000000111'\n",
    "yup = '00011001000'\n",
    "\n",
    "\n",
    "def yup2num(yup):\n",
    "    num = int(yup[10]) + int(yup[9]) * 2 + int(yup[8]) * 2 + int(yup[7]) * 3 + int(yup[6]) * 3 + int(yup[5]) * 3 + int(yup[4]) * 5 + int(yup[3]) * 5 + int(yup[2]) * 5 + int(yup[1]) * 5 + int(yup[0]) * 5 \n",
    "    return num\n",
    "    \n",
    "\n",
    "print(yup2num(yup))\n"
   ]
  }
 ],
 "metadata": {
  "kernelspec": {
   "display_name": "Python 3",
   "language": "python",
   "name": "python3"
  },
  "language_info": {
   "codemirror_mode": {
    "name": "ipython",
    "version": 3
   },
   "file_extension": ".py",
   "mimetype": "text/x-python",
   "name": "python",
   "nbconvert_exporter": "python",
   "pygments_lexer": "ipython3",
   "version": "3.7.3"
  }
 },
 "nbformat": 4,
 "nbformat_minor": 2
}
