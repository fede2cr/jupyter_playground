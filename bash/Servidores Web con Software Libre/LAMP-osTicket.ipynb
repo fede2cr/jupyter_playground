{
 "cells": [
  {
   "cell_type": "markdown",
   "metadata": {},
   "source": [
    "# osTicket\n",
    "\n",
    "Con esta guía de Jupyter vamos a lograr instalar una versión reciente de osTicket, en un servidor Ubuntu 16.04 recién instalado.\n",
    "\n",
    "Primero debe instalar los componentes del servidor LAMP, inciciando por la instalación de la base de datos. Seguidamente descargamos el código de osTicket.\n",
    "\n",
    "Por último, creamos la base de datos a ser utilizada por osTicket, y luego corremos el instalador Web.\n",
    "\n",
    "\n",
    "### MariaDB\n",
    "MySQL y MariaDB tienen algunas pequeñas diferencias pero para nuestro objetivo son técnicamente equivalente, por lo cual vamos a preferir MariaDB sobre MySQL.\n",
    "\n",
    "A la hora de instalar la base de datos de MariaDB, la herramienta de Apt de Debian va a insistir en solicitarnos una contraseña para el usuario \"root\" de la base de datos, el cual vamos a utilizar para tareas de administración.\n",
    "\n",
    "Para evitar que en esta guía se nos solicite contraseña, vamos a usar el comando ``debconf-set-selections`` para definir la contraseña de antemano.\n",
    "\n",
    "Nota: El usuario \"root\" de MariaDB y el de Linux son completamente aparte."
   ]
  },
  {
   "cell_type": "code",
   "execution_count": null,
   "metadata": {
    "collapsed": true
   },
   "outputs": [],
   "source": [
    "echo \"mariadb-server mysql-server/root_password password greencore\" | sudo debconf-set-selections\n",
    "echo \"mariadb-server mysql-server/root_password_again password greencore\" | sudo debconf-set-selections\n",
    "sudo apt-get -y install mariadb-server"
   ]
  },
  {
   "cell_type": "markdown",
   "metadata": {},
   "source": [
    "### Apache y Php\n",
    "\n",
    "Procedemos ahora a instalar Apache2, con el componente de Php el cual fuerza el servidor a usar el MPM **prefork**.\n",
    "\n",
    "Así mismo instalamos módulos de Php requeridos por la aplicación osTicket, según la documentación del fabricante.\n",
    "\n",
    "Nota: No vamos a reiniciar el servicio de Apache en este momento, sino hasta luego de editar archivos de configuración."
   ]
  },
  {
   "cell_type": "code",
   "execution_count": null,
   "metadata": {
    "collapsed": true
   },
   "outputs": [],
   "source": [
    "sudo apt-get -y install php libapache2-mod-php apache2 php7.0-cli php7.0-mysql php7.0-cgi php7.0-fpm php7.0-gd php7.0-imap php7.0-xml php7.0-mbstring php7.0-intl php-apcu\n",
    "sudo a2enmod rewrite"
   ]
  },
  {
   "cell_type": "markdown",
   "metadata": {},
   "source": [
    "### Cambios menores en Apache\n",
    "\n",
    "**Desde una terminal**, y utilizando su editor preferido, debe cambiar dos archivos de la siguiente forma:\n",
    "\n",
    "**Archivo:** ``/etc/apache2/mods-enabled/dir.conf``\n",
    "\n",
    "**Cambio:** La línea que inicia por DirectoryIndex tiene una lista de las extensiones de archivos de tipo \"Index\". Ya sea cambiando el orden, o eliminando extensiones, debe asegurarse que ``index.php`` esté de primero en la lista.\n",
    "\n",
    "``DirectoryIndex index.php``\n",
    "\n",
    "**Archivo:** ``/etc/apache2/apache2.conf``\n",
    "\n",
    "**Cambio:** En la definición del directorio ``/var/www`` originalmente tiene la instrucción ``AllowOverride None``. Cambie la definición para que diga ``AllowOverride All``\n",
    "\n",
    "``<Directory /var/www/>\n",
    "        Options Indexes FollowSymLinks\n",
    "        AllowOverride All\n",
    "        Require all granted\n",
    "</Directory>``\n",
    "\n",
    "Reiniciamos Apache y mostramos el estado del servicio.\n",
    "\n",
    "## osTicket\n",
    "\n",
    "La última versión y recomendada de osTicket es la v1.10"
   ]
  },
  {
   "cell_type": "code",
   "execution_count": null,
   "metadata": {
    "collapsed": true
   },
   "outputs": [],
   "source": [
    "sudo systemctl restart apache2\n",
    "sudo systemctl status apache2 | cat\n",
    "wget -qc http://osticket.com/sites/default/files/download/osTicket-v1.10.zip\n",
    "ls -lh"
   ]
  },
  {
   "cell_type": "markdown",
   "metadata": {},
   "source": [
    "Descomprimimos el código de osTicket dentro de /var/www/html que es el directorio default de Apache.\n",
    "\n",
    "En un sistema en producción se recomienda crear un directorio para cada virtualhost, o un único virtualhost para osTicket y hacer uso de la función de \"Multi tenant\" para trabajar varios clientes con una sola instancia de la aplicación.\n",
    "\n",
    "Importante que el código queda con derechos de **www-data**, usuario que utiliza Debian para el servicio de web de Apache. Esto porque osTicket debe poder manipular archivos dentro de la carpeta."
   ]
  },
  {
   "cell_type": "code",
   "execution_count": null,
   "metadata": {
    "collapsed": true
   },
   "outputs": [],
   "source": [
    "sudo apt-get -y install unzip\n",
    "sudo unzip -q ~/osTicket-v1.10.zip\n",
    "sudo rm -r /var/www/html\n",
    "sudo mv upload /var/www/html\n",
    "sudo chown -R www-data:www-data /var/www/html\n",
    "ls /var/www/html"
   ]
  },
  {
   "cell_type": "markdown",
   "metadata": {},
   "source": [
    "### Creación de base de datos\n",
    "\n",
    "Antes de ejecutar el instalador Web de osTicket debemos crear la base de datos y el usuario que usará la aplicación de osTicket.\n",
    "\n",
    "Para ello vamos a utilizar el comando de mysql(1), definiendo la contraseña \"greencore\" en la misma línea de comando."
   ]
  },
  {
   "cell_type": "code",
   "execution_count": null,
   "metadata": {
    "collapsed": true
   },
   "outputs": [],
   "source": [
    "sudo mysql -u root -pgreencore << EOF\n",
    "CREATE DATABASE osticket;\n",
    "CREATE USER osticket@localhost IDENTIFIED BY 'greencore';\n",
    "GRANT ALL PRIVILEGES ON osticket.* TO osticket@localhost IDENTIFIED BY 'greencore';\n",
    "FLUSH PRIVILEGES;\n",
    "EOF"
   ]
  },
  {
   "cell_type": "markdown",
   "metadata": {},
   "source": [
    "### Archivo de configuración de osTicket\n",
    "\n",
    "Para poder ejecutar el instalador, debemos crear un archivo de configuración el cual debe tener **temporalmente** permisos de escritura.\n",
    "\n",
    "Una vez completado el proceso de instalación, debemos remover los permisos de escritura del archivo. Ver al final de esta guía."
   ]
  },
  {
   "cell_type": "code",
   "execution_count": null,
   "metadata": {
    "collapsed": true
   },
   "outputs": [],
   "source": [
    "sudo cp -v /var/www/html/include/ost-sampleconfig.php /var/www/html/include/ost-config.php\n",
    "sudo chmod 0666 /var/www/html/include/ost-config.php\n",
    "sudo chown www-data:www-data /var/www/html/include/ost-config.php"
   ]
  },
  {
   "cell_type": "markdown",
   "metadata": {},
   "source": [
    "### Instalador web\n",
    "\n",
    "No es necesario manipular ningún archivo Php para definir la configuración de nuestro sitio. Visitamos el sitio web, donde nos recibe el instalador Web de osTicket. Este funciona en estilo \"wizard\" donde simplemente vamos contestando con cuidado las consultas que nos hace.\n",
    "\n",
    "http://10.42.25.7X/setup/install.php\n",
    "\n",
    "\n",
    "\n",
    "En el instalador puede usar valores que usaría en un sitio en producción.\n",
    "Recuerde utilizar para este laboratorio el usuario \"admin\", con contraseña \"greencore\" para facilitar la revisión de errores o dudas.\n",
    "\n",
    "### Removiendo permisos\n",
    "\n",
    "Eliminamos el permiso de escritura del archivo de configuración, así como removemos el directorio ``setup`` del código de osTicket."
   ]
  },
  {
   "cell_type": "code",
   "execution_count": null,
   "metadata": {
    "collapsed": true
   },
   "outputs": [],
   "source": [
    "sudo chmod 0644 /var/www/html/include/ost-config.php\n",
    "sudo rm -r /var/www/html/setup"
   ]
  }
 ],
 "metadata": {
  "kernelspec": {
   "display_name": "Bash",
   "language": "bash",
   "name": "bash"
  },
  "language_info": {
   "codemirror_mode": "shell",
   "file_extension": ".sh",
   "mimetype": "text/x-sh",
   "name": "bash"
  }
 },
 "nbformat": 4,
 "nbformat_minor": 2
}
